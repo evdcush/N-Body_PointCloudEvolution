{
 "cells": [
  {
   "cell_type": "code",
   "execution_count": 1,
   "metadata": {},
   "outputs": [],
   "source": [
    "import os, code, sys, time\n",
    "import numpy as np\n",
    "import chainer\n",
    "import chainer.functions as F\n",
    "import chainer.links as L \n",
    "import chainer.optimizers as optimizers\n",
    "import chainer.serializers as serializers\n",
    "from chainer import cuda\n",
    "import cupy\n",
    "import matplotlib\n",
    "import matplotlib.pyplot as plt\n",
    "from IPython import display\n",
    "from data_utils import *\n",
    "import models, nn, graph_ops\n",
    "import gc"
   ]
  },
  {
   "cell_type": "code",
   "execution_count": 9,
   "metadata": {},
   "outputs": [],
   "source": [
    "thetas = np.load('thetas_timesteps.npy').item()\n",
    "rs = [0.0, 0.2, 0.4, 0.6, 0.8, 1.0, 1.2, 1.5, 2.0, 4.0, 6.0]\n",
    "rs = rs[::-1]\n",
    "#rs_tups = {rs[i]:[rs[j] for j in range(i+1,len(rs))] for i in range(len(rs)-1)}\n",
    "rs_tups = [(rs[i], rs[j]) for i in range(len(rs)) for j in range(i+1, len(rs))]\n",
    "lh_dir = './Close/'\n",
    "set_name = lh_dir + 'set_16_{}_{}_LossHistory.npy'\n",
    "graph_name = lh_dir + 'kgraph_16_{}_{}_LossHistory.npy'\n",
    "greatest_diff = {'diff':0.0, 'rs':(6.0,4.0), 'lh':0.4324}"
   ]
  },
  {
   "cell_type": "code",
   "execution_count": 23,
   "metadata": {},
   "outputs": [
    {
     "name": "stdout",
     "output_type": "stream",
     "text": [
      "G LT 6.0 0.4, lim: 0.002086424268782139, lh: 0.0020443028770387173\n",
      "G LT 6.0 0.2, lim: 0.0037951532285660505, lh: 0.0036190086975693703\n",
      "S LT 6.0 0.0, lim: 0.00660347705706954, lh: 0.0056159887462854385\n",
      "G LT 6.0 0.0, lim: 0.00660347705706954, lh: 0.005365326534956694\n",
      "G LT 4.0 0.0, lim: 0.004940531682223082, lh: 0.004743741825222969\n",
      "G LT 2.0 1.2, lim: 5.881043762201443e-05, lh: 5.6276599934790283e-05\n",
      "G LT 2.0 1.0, lim: 0.00013450681581161916, lh: 0.00013234041398391128\n",
      "G LT 2.0 0.8, lim: 0.00028291717171669006, lh: 0.0002630873932503164\n",
      "G LT 2.0 0.6, lim: 0.0005468276212923229, lh: 0.000498873763717711\n",
      "G LT 2.0 0.4, lim: 0.0009804371511563659, lh: 0.0008628673967905343\n",
      "G LT 2.0 0.2, lim: 0.0017030484741553664, lh: 0.001474065356887877\n",
      "G LT 2.0 0.0, lim: 0.002969615161418915, lh: 0.002555545186623931\n",
      "G LT 1.5 0.6, lim: 0.00023963983403518796, lh: 0.0002184123295592144\n",
      "G LT 1.5 0.4, lim: 0.000537640880793333, lh: 0.0004538671928457916\n",
      "G LT 1.5 0.2, lim: 0.0010522492229938507, lh: 0.000849036208819598\n",
      "G LT 1.5 0.0, lim: 0.002028461080044508, lh: 0.0016018189489841461\n",
      "G LT 1.2 0.6, lim: 7.763109897496179e-05, lh: 7.452344289049506e-05\n",
      "G LT 1.2 0.4, lim: 0.00024761504027992487, lh: 0.0001960718655027449\n",
      "G LT 1.2 0.2, lim: 0.0006044132169336081, lh: 0.00047096482012420893\n",
      "G LT 1.2 0.0, lim: 0.0012917050626128912, lh: 0.0009994929423555732\n",
      "G LT 1.0 0.4, lim: 0.00014234897389542311, lh: 0.00012606217933353037\n",
      "G LT 1.0 0.2, lim: 0.0003864183963742107, lh: 0.00030718519701622427\n",
      "G LT 1.0 0.0, lim: 0.0009044006583280861, lh: 0.0006969289388507605\n",
      "G LT 0.8 0.4, lim: 6.403920997399837e-05, lh: 6.344153371173888e-05\n",
      "G LT 0.8 0.2, lim: 0.00022679183166474104, lh: 0.00019163463730365038\n",
      "G LT 0.8 0.0, lim: 0.0005943455034866929, lh: 0.0004419722536113113\n",
      "G LT 0.6 0.2, lim: 7.085672405082732e-05, lh: 7.023559737717733e-05\n",
      "G LT 0.6 0.0, lim: 0.0002765487879514694, lh: 0.00021544499031733721\n",
      "G LT 0.4 0.0, lim: 0.00012044570758007467, lh: 0.00011015937343472615\n"
     ]
    }
   ],
   "source": [
    "lhmeans = []\n",
    "lhdiffs = []\n",
    "lhrs = []\n",
    "for zX, zY in rs_tups:\n",
    "    for use_graph in [False, True]:\n",
    "        cur_theta = thetas[(16,zX,zY)]['lim']\n",
    "        model = set_name if not use_graph else graph_name\n",
    "        cur_lh = np.load(model.format(zX,zY))\n",
    "        cur_mean = np.mean(cur_lh[-50:])\n",
    "        diff = abs(cur_theta - cur_mean)\n",
    "        mtype = 'G' if use_graph else 'S'\n",
    "        if cur_mean < cur_theta:\n",
    "            #print('{}, {}'.format(zX,zY))\n",
    "            if mtype != 'S':\n",
    "                lhmeans.append(cur_mean)\n",
    "                lhdiffs.append(diff)\n",
    "                lhrs.append((zX,zY))\n",
    "            #lhmeans.append(cur_mean)\n",
    "            print('{} LT {} {}, lim: {}, lh: {}'.format(mtype, zX,zY, cur_theta, cur_mean))\n",
    "            if diff > greatest_diff['diff']:\n",
    "                greatest_diff['diff'] = diff\n",
    "                greatest_diff['rs'] = (zX,zY)\n",
    "                greatest_diff['lh'] = cur_mean\n",
    "        #else:\n",
    "            #print('{} gt {} {}, lim: {}, lh: {}'.format(mtype, zX,zY, cur_theta, cur_mean))\n",
    "lhmeans = np.array(lhmeans)\n",
    "lhdiffs = np.array(lhdiffs)\n",
    "lhrs = np.array(lhrs)"
   ]
  },
  {
   "cell_type": "code",
   "execution_count": null,
   "metadata": {},
   "outputs": [],
   "source": [
    "y = loss_history[:cur_iter+1]\n",
    "plt.close('all')\n",
    "title = 'n_P {} RS {}, Iteration: {}, loss: {:.4}'.format(nparticles, redshift_tuple, cur_iter+1, y[-1])\n",
    "fig = plot_training_curve(y, cur_iter, yclip=0.01, title=title)\n",
    "display.display(plt.gcf())\n",
    "display.clear_output(wait=True)\n",
    "time.sleep(0.0001)"
   ]
  },
  {
   "cell_type": "code",
   "execution_count": null,
   "metadata": {},
   "outputs": [],
   "source": [
    "zX = \n",
    "X = normalize(load_datum(zX, nparticles), cupy_out=True)\n",
    "Y = normalize(load_datum(zY, nparticles), cupy_out=True)"
   ]
  }
 ],
 "metadata": {
  "kernelspec": {
   "display_name": "Python 3",
   "language": "python",
   "name": "python3"
  },
  "language_info": {
   "codemirror_mode": {
    "name": "ipython",
    "version": 3
   },
   "file_extension": ".py",
   "mimetype": "text/x-python",
   "name": "python",
   "nbconvert_exporter": "python",
   "pygments_lexer": "ipython3",
   "version": "3.6.3"
  }
 },
 "nbformat": 4,
 "nbformat_minor": 2
}
