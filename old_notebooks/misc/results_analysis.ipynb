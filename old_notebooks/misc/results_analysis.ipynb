{
 "cells": [
  {
   "cell_type": "code",
   "execution_count": null,
   "metadata": {},
   "outputs": [],
   "source": [
    "import os, code, sys, time\n",
    "import numpy as np\n",
    "import chainer\n",
    "import chainer.functions as F\n",
    "import chainer.links as L \n",
    "import chainer.optimizers as optimizers\n",
    "import chainer.serializers as serializers\n",
    "from chainer import cuda\n",
    "import cupy\n",
    "import matplotlib\n",
    "import matplotlib.pyplot as plt\n",
    "from IPython import display\n",
    "from data_utils import *\n",
    "import models, nn, graph_ops\n",
    "'''\n",
    "This notebook for analyzing results\n",
    "'''"
   ]
  },
  {
   "cell_type": "code",
   "execution_count": null,
   "metadata": {},
   "outputs": [],
   "source": [
    "'''\n",
    "Model names and such\n",
    "'''\n",
    "path = './FINAL/'\n",
    "lh_path = path + 'loss_plots/'\n",
    "mlabels32 = ['graphVel_32_0600_',           \n",
    "    \n",
    "]\n",
    "mlabels16 = ['graphVel_32_0600_',           \n",
    "    \n",
    "]"
   ]
  },
  {
   "cell_type": "code",
   "execution_count": null,
   "metadata": {},
   "outputs": [],
   "source": [
    "'''\n",
    "Load training curves\n",
    "\n",
    "Each loss_history shape:\n",
    "  training   = (num_rng_seeds, num_train_samples)\n",
    "  validation = (num_rng_seeds, num_val_samples_per_epoch)\n",
    "\n",
    "before plotting, average out the rng_seeds dim (axis=0)\n",
    "'''\n",
    "\n"
   ]
  }
 ],
 "metadata": {
  "kernelspec": {
   "display_name": "Python 3",
   "language": "python",
   "name": "python3"
  },
  "language_info": {
   "codemirror_mode": {
    "name": "ipython",
    "version": 3
   },
   "file_extension": ".py",
   "mimetype": "text/x-python",
   "name": "python",
   "nbconvert_exporter": "python",
   "pygments_lexer": "ipython3",
   "version": "3.6.3"
  }
 },
 "nbformat": 4,
 "nbformat_minor": 2
}
