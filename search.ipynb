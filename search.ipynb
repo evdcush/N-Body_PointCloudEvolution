{
 "cells": [
  {
   "cell_type": "code",
   "execution_count": 1,
   "metadata": {},
   "outputs": [],
   "source": [
    "import os, code, sys, time\n",
    "import numpy as np\n",
    "import chainer\n",
    "import chainer.functions as F\n",
    "import chainer.links as L \n",
    "import chainer.optimizers as optimizers\n",
    "from chainer import cuda\n",
    "import cupy\n",
    "from IPython import display\n",
    "from data_utils import load_data, normalize, next_minibatch, to_variable\n",
    "import models, nn, graph_ops"
   ]
  },
  {
   "cell_type": "code",
   "execution_count": 2,
   "metadata": {},
   "outputs": [
    {
     "name": "stdout",
     "output_type": "stream",
     "text": [
      "xp: <module 'cupy' from '/home/evan/.pyenv/versions/3.6.3/envs/P363/lib/python3.6/site-packages/cupy/__init__.py'>\n",
      "rng_seed = 98765 \n"
     ]
    }
   ],
   "source": [
    "'''\n",
    "Set array backend, seed\n",
    "'''\n",
    "def seed_rng(s):\n",
    "    xp.random.seed(s)\n",
    "    np.random.seed(s)\n",
    "rng_seed = 98765\n",
    "use_gpu = True\n",
    "xp = cupy if use_gpu >= 0 else np\n",
    "print('xp: {}'.format(xp))\n",
    "print('rng_seed = {} '.format(rng_seed))"
   ]
  },
  {
   "cell_type": "code",
   "execution_count": null,
   "metadata": {},
   "outputs": [
    {
     "name": "stdout",
     "output_type": "stream",
     "text": [
      "+------+------------+------------+------------+------------+------------+------------+------------+------------+------------+------------+\n",
      "| n_NN | (0.4, 0.0) | (6.0, 0.0) | (4.0, 0.6) | (0.8, 0.2) | (1.0, 0.4) | (2.0, 0.8) | (6.0, 1.5) | (1.2, 0.6) | (2.0, 1.5) | (0.4, 0.2) |\n",
      "+------+------------+------------+------------+------------+------------+------------+------------+------------+------------+------------+\n",
      "|  0   | 0.0001158  | 0.0024041  | 0.0008920  | 0.0002067  | 0.0001298  | 0.0002501  | 0.0000939  | 0.0000725  | 0.0000123  | 0.0000146  |\n",
      "|  8   | 0.0001038  | 0.0000000  | 0.0000000  | 0.0000000  | 0.0000000  | 0.0000000  | 0.0000000  | 0.0000000  | 0.0000000  | 0.0000000  |\n",
      "|  9   | 0.0000000  | 0.0000000  | 0.0000000  | 0.0000000  | 0.0000000  | 0.0000000  | 0.0000000  | 0.0000000  | 0.0000000  | 0.0000000  |\n",
      "|  10  | 0.0000000  | 0.0000000  | 0.0000000  | 0.0000000  | 0.0000000  | 0.0000000  | 0.0000000  | 0.0000000  | 0.0000000  | 0.0000000  |\n",
      "|  11  | 0.0000000  | 0.0000000  | 0.0000000  | 0.0000000  | 0.0000000  | 0.0000000  | 0.0000000  | 0.0000000  | 0.0000000  | 0.0000000  |\n",
      "|  12  | 0.0000000  | 0.0000000  | 0.0000000  | 0.0000000  | 0.0000000  | 0.0000000  | 0.0000000  | 0.0000000  | 0.0000000  | 0.0000000  |\n",
      "|  13  | 0.0000000  | 0.0000000  | 0.0000000  | 0.0000000  | 0.0000000  | 0.0000000  | 0.0000000  | 0.0000000  | 0.0000000  | 0.0000000  |\n",
      "|  14  | 0.0000000  | 0.0000000  | 0.0000000  | 0.0000000  | 0.0000000  | 0.0000000  | 0.0000000  | 0.0000000  | 0.0000000  | 0.0000000  |\n",
      "|  15  | 0.0000000  | 0.0000000  | 0.0000000  | 0.0000000  | 0.0000000  | 0.0000000  | 0.0000000  | 0.0000000  | 0.0000000  | 0.0000000  |\n",
      "|  16  | 0.0000000  | 0.0000000  | 0.0000000  | 0.0000000  | 0.0000000  | 0.0000000  | 0.0000000  | 0.0000000  | 0.0000000  | 0.0000000  |\n",
      "|  17  | 0.0000000  | 0.0000000  | 0.0000000  | 0.0000000  | 0.0000000  | 0.0000000  | 0.0000000  | 0.0000000  | 0.0000000  | 0.0000000  |\n",
      "|  18  | 0.0000000  | 0.0000000  | 0.0000000  | 0.0000000  | 0.0000000  | 0.0000000  | 0.0000000  | 0.0000000  | 0.0000000  | 0.0000000  |\n",
      "|  19  | 0.0000000  | 0.0000000  | 0.0000000  | 0.0000000  | 0.0000000  | 0.0000000  | 0.0000000  | 0.0000000  | 0.0000000  | 0.0000000  |\n",
      "|  20  | 0.0000000  | 0.0000000  | 0.0000000  | 0.0000000  | 0.0000000  | 0.0000000  | 0.0000000  | 0.0000000  | 0.0000000  | 0.0000000  |\n",
      "|  21  | 0.0000000  | 0.0000000  | 0.0000000  | 0.0000000  | 0.0000000  | 0.0000000  | 0.0000000  | 0.0000000  | 0.0000000  | 0.0000000  |\n",
      "|  22  | 0.0000000  | 0.0000000  | 0.0000000  | 0.0000000  | 0.0000000  | 0.0000000  | 0.0000000  | 0.0000000  | 0.0000000  | 0.0000000  |\n",
      "|  23  | 0.0000000  | 0.0000000  | 0.0000000  | 0.0000000  | 0.0000000  | 0.0000000  | 0.0000000  | 0.0000000  | 0.0000000  | 0.0000000  |\n",
      "|  24  | 0.0000000  | 0.0000000  | 0.0000000  | 0.0000000  | 0.0000000  | 0.0000000  | 0.0000000  | 0.0000000  | 0.0000000  | 0.0000000  |\n",
      "|  25  | 0.0000000  | 0.0000000  | 0.0000000  | 0.0000000  | 0.0000000  | 0.0000000  | 0.0000000  | 0.0000000  | 0.0000000  | 0.0000000  |\n",
      "|  26  | 0.0000000  | 0.0000000  | 0.0000000  | 0.0000000  | 0.0000000  | 0.0000000  | 0.0000000  | 0.0000000  | 0.0000000  | 0.0000000  |\n",
      "|  27  | 0.0000000  | 0.0000000  | 0.0000000  | 0.0000000  | 0.0000000  | 0.0000000  | 0.0000000  | 0.0000000  | 0.0000000  | 0.0000000  |\n",
      "|  28  | 0.0000000  | 0.0000000  | 0.0000000  | 0.0000000  | 0.0000000  | 0.0000000  | 0.0000000  | 0.0000000  | 0.0000000  | 0.0000000  |\n",
      "|  29  | 0.0000000  | 0.0000000  | 0.0000000  | 0.0000000  | 0.0000000  | 0.0000000  | 0.0000000  | 0.0000000  | 0.0000000  | 0.0000000  |\n",
      "|  30  | 0.0000000  | 0.0000000  | 0.0000000  | 0.0000000  | 0.0000000  | 0.0000000  | 0.0000000  | 0.0000000  | 0.0000000  | 0.0000000  |\n",
      "+------+------------+------------+------------+------------+------------+------------+------------+------------+------------+------------+\n",
      "param: 8, zX, zY: (6.0, 0.0)\n"
     ]
    }
   ],
   "source": [
    "'''\n",
    "Hyperparameter search\n",
    "'''\n",
    "from IPython.display import clear_output\n",
    "from prettytable import PrettyTable\n",
    "\n",
    "num_particles = 16 # defaults 16**3\n",
    "lr = 0.01\n",
    "mb_size = 8\n",
    "n_epochs = 2500\n",
    "chan_vals = [2**i for i in range(2,9)]\n",
    "chan_depth = [i for i in range(2,15)]\n",
    "#chans = [np.random.choice(chan_vals, np.random.choice(chan_depth)) for i in range(1000)]\n",
    "#bounds = [0.0, 0.1, 0.09, 0.08, 0.07, 0.06, 0.05, 0.04, 0.03, 0.02, 0.01]\n",
    "#redshifts = [(0.4, 0.0), (0.8, 0.0), (6.0, 1.2), (4.0, 2.0), (0.8, 0.6), (1.5, 1.0), (1.2, 0.2), (6.0, 0.4)]\n",
    "n_NN = list(np.arange(8,31))\n",
    "n_NN.insert(0,0)\n",
    "redshifts = [(0.4, 0.0), (6.0, 0.0), (4.0, 0.6), (0.8, 0.2), (1.0, 0.4), (2.0, 0.8), (6.0, 1.5), (1.2, 0.6), (2.0, 1.5), (0.4, 0.2)]\n",
    "search_params = n_NN\n",
    "param_label = \"n_NN\"\n",
    "\n",
    "def pprint_avgs(arr):\n",
    "    #lst = [list(row) for row in list(arr)]\n",
    "    lst = [['%0.7f'%elem for elem in row] for row in arr]\n",
    "    ptab = PrettyTable()\n",
    "    ptab.field_names = [param_label] + [str(rs) for rs in redshifts]\n",
    "    for idx, row in enumerate(lst):\n",
    "        param = search_params[idx]\n",
    "        ptab.add_row([param] + row)\n",
    "    print(ptab)\n",
    "\n",
    "#specs = [('knn', 9),('knn', 11),('knn', 13),('knn', 15),('knn', 17),('knn', 21),('knn', 23),('knn', 25),('knn', 27), ]\n",
    "loss_history = np.zeros((n_epochs,len(search_params),len(redshifts)), dtype=np.float32)\n",
    "loss_avgs = np.zeros((len(search_params), len(redshifts)))\n",
    "'''\n",
    "for rs_idx, rs in enumerate(redshifts):\n",
    "    zX, zY = rs\n",
    "    _X,_Y = load_data(zX, zY, num_particles)\n",
    "'''\n",
    "for p_idx, PARAM in enumerate(search_params):\n",
    "    for rs_idx, rs in enumerate(redshifts):\n",
    "        # MUST SEED BEFORE EACH TRAINING SESSION\n",
    "        seed_rng(rng_seed) # insure that every model begins with same\n",
    "        zX, zY = rs\n",
    "        _X,_Y = load_data(zX, zY, num_particles)\n",
    "        X,Y = np.copy(_X), np.copy(_Y)\n",
    "        X = normalize(X)\n",
    "        Y = normalize(Y)\n",
    "        chan = [6, 8, 16, 32, 16, 8, 3, 8, 16, 32, 16, 8, 3]\n",
    "        if p_idx == 0:\n",
    "            model = models.nBodyModel(chan)\n",
    "        else:\n",
    "            model = models.nBodyModel(chan, ('knn', PARAM))\n",
    "        model.to_gpu()\n",
    "        optimizer = optimizers.Adam(alpha=lr)\n",
    "        optimizer.setup(model)\n",
    "        \n",
    "        cur_settings = [PARAM, rs]\n",
    "        print('param: {}, zX, zY: {}'.format(PARAM, (zX,zY)))\n",
    "        for epoch in range(1, n_epochs+1):\n",
    "            model.zerograds()\n",
    "            # data\n",
    "            _x_in_, _x_true_ = next_minibatch([X,Y], mb_size)\n",
    "            _x_in, _x_true = np.copy(_x_in_), np.copy(_x_true_)\n",
    "            x_in = chainer.Variable(cuda.to_gpu(_x_in.astype(xp.float32)))\n",
    "            x_true = chainer.Variable(cuda.to_gpu(_x_true.astype(xp.float32)))\n",
    "            # forward\n",
    "            x_hat = model(x_in, add=True, bounded=True) # prediction\n",
    "            loss = nn.loss_fun_bounded(x_hat, x_true, 0.095)\n",
    "            # backprop\n",
    "            loss.backward()\n",
    "            optimizer.update()\n",
    "            loss_history[epoch-1, p_idx, rs_idx] = cuda.to_cpu(loss.data)\n",
    "        endloss = np.mean(loss_history[-250:, p_idx, rs_idx])\n",
    "        loss_avgs[p_idx, rs_idx] = endloss\n",
    "        rsf = (endloss, cur_settings)\n",
    "        clear_output(wait=True)\n",
    "        pprint_avgs(loss_avgs)\n",
    "           \n",
    "'''\n",
    "+--------+-------------------+-------------------+-------------------+-------------------+-------------------+-------------------+-------------------+\n",
    "| bounds |     (0.4, 0.0)    |     (0.8, 0.0)    |     (6.0, 1.2)    |     (4.0, 2.0)    |     (0.8, 0.6)    |     (1.5, 1.0)    |     (1.2, 0.2)    |\n",
    "+--------+-------------------+-------------------+-------------------+-------------------+-------------------+-------------------+-------------------+\n",
    "|  0.0   | 0.000119890377391 | 0.000457710237242 | 0.000162970478414 | 1.83323718375e-05 | 3.16315745295e-05 | 3.01272466459e-05 | 0.000394351867726 |\n",
    "|  0.1   | 0.000115659378935 | 0.000500292750075 | 0.000203645016882 | 1.69450759131e-05 | 9.24624055187e-06 |  2.8423832191e-05 | 0.000487153010909 |\n",
    "|  0.09  | 0.000115799157356 | 0.000559969630558 |  0.00023882460664 | 1.74512952071e-05 | 9.26273605728e-06 | 2.84684101644e-05 | 0.000572036020458 |\n",
    "|  0.08  | 0.000116949391668 | 0.000655652140267 | 0.000299750536215 | 1.96377641259e-05 | 9.30869464355e-06 | 2.90543866868e-05 | 0.000710388296284 |\n",
    "|  0.07  | 0.000120661708934 |  0.00084223295562 | 0.000426335580414 | 2.46218041866e-05 | 9.20692764339e-06 | 3.07395057462e-05 | 0.000908661459107 |\n",
    "|  0.06  | 0.000139344963827 |  0.00122337543871 | 0.000728332379367 | 3.16597470373e-05 | 9.24199503061e-06 | 3.68279579561e-05 |  0.00116449513007 |\n",
    "|  0.05  | 0.000196880107978 |  0.00139848690014 |  0.00132458866574 | 4.45803343609e-05 | 3.16621590173e-05 | 5.26102048752e-05 |  0.0013643016573  |\n",
    "|  0.04  | 0.000389787834138 |  0.00283175101504 |  0.00187213870231 | 6.82938407408e-05 | 3.19446407957e-05 | 9.32425173232e-05 |  0.00223632133566 |\n",
    "|  0.03  |  0.00107194168959 |  0.00341849774122 |  0.00439322041348 | 0.000150620136992 | 3.74845330953e-05 | 0.000194006090169 |  0.00389076955616 |\n",
    "|  0.01  |  0.00541484635323 |  0.0116537790745  |  0.00976342987269 |  0.00506438920274 | 0.000540107314009 |  0.00248598889448 |  0.0114512173459  |\n",
    "| 0.009  |  0.00684926938266 |  0.0126220276579  |   0.017486480996  |  0.00599138485268 | 0.000731166161131 |  0.0032100409735  |  0.0155507419258  |\n",
    "+--------+-------------------+-------------------+-------------------+-------------------+-------------------+-------------------+-------------------+\n",
    "+------+------------+------------+------------+------------+------------+------------+------------+------------+------------+------------+\n",
    "| n_NN | (0.4, 0.0) | (6.0, 0.0) | (4.0, 0.6) | (0.8, 0.2) | (1.0, 0.4) | (2.0, 0.8) | (6.0, 1.5) | (1.2, 0.6) | (2.0, 1.5) | (0.4, 0.2) |\n",
    "+------+------------+------------+------------+------------+------------+------------+------------+------------+------------+------------+\n",
    "|  8   | 0.0001029  | 0.0054619  | 0.0008854  | 0.0000000  | 0.0000000  | 0.0000000  | 0.0000000  | 0.0000000  | 0.0000000  | 0.0000000  |\n",
    "|  9   | 0.0001110  | 0.0054512  | 0.0000000  | 0.0000000  | 0.0000000  | 0.0000000  | 0.0000000  | 0.0000000  | 0.0000000  | 0.0000000  |\n",
    "|  10  | 0.0000974  | 0.0051782  | 0.0000000  | 0.0000000  | 0.0000000  | 0.0000000  | 0.0000000  | 0.0000000  | 0.0000000  | 0.0000000  |\n",
    "|  11  | 0.0000966  | 0.0055355  | 0.0000000  | 0.0000000  | 0.0000000  | 0.0000000  | 0.0000000  | 0.0000000  | 0.0000000  | 0.0000000  |\n",
    "|  12  | 0.0000998  | 0.0055162  | 0.0000000  | 0.0000000  | 0.0000000  | 0.0000000  | 0.0000000  | 0.0000000  | 0.0000000  | 0.0000000  |\n",
    "|  13  | 0.0000977  | 0.0056525  | 0.0000000  | 0.0000000  | 0.0000000  | 0.0000000  | 0.0000000  | 0.0000000  | 0.0000000  | 0.0000000  |\n",
    "|  14  | 0.0000968  | 0.0056713  | 0.0000000  | 0.0000000  | 0.0000000  | 0.0000000  | 0.0000000  | 0.0000000  | 0.0000000  | 0.0000000  |\n",
    "|  15  | 0.0000982  | 0.0054596  | 0.0000000  | 0.0000000  | 0.0000000  | 0.0000000  | 0.0000000  | 0.0000000  | 0.0000000  | 0.0000000  |\n",
    "|  16  | 0.0000995  | 0.0050161  | 0.0000000  | 0.0000000  | 0.0000000  | 0.0000000  | 0.0000000  | 0.0000000  | 0.0000000  | 0.0000000  |\n",
    "|  17  | 0.0000974  | 0.0054068  | 0.0000000  | 0.0000000  | 0.0000000  | 0.0000000  | 0.0000000  | 0.0000000  | 0.0000000  | 0.0000000  |\n",
    "|  18  | 0.0000987  | 0.0049583  | 0.0000000  | 0.0000000  | 0.0000000  | 0.0000000  | 0.0000000  | 0.0000000  | 0.0000000  | 0.0000000  |\n",
    "|  19  | 0.0000972  | 0.0050308  | 0.0000000  | 0.0000000  | 0.0000000  | 0.0000000  | 0.0000000  | 0.0000000  | 0.0000000  | 0.0000000  |\n",
    "|  20  | 0.0000970  | 0.0055209  | 0.0000000  | 0.0000000  | 0.0000000  | 0.0000000  | 0.0000000  | 0.0000000  | 0.0000000  | 0.0000000  |\n",
    "|  21  | 0.0001003  | 0.0051587  | 0.0000000  | 0.0000000  | 0.0000000  | 0.0000000  | 0.0000000  | 0.0000000  | 0.0000000  | 0.0000000  |\n",
    "|  22  | 0.0000975  | 0.0050356  | 0.0000000  | 0.0000000  | 0.0000000  | 0.0000000  | 0.0000000  | 0.0000000  | 0.0000000  | 0.0000000  |\n",
    "|  23  | 0.0000959  | 0.0052206  | 0.0000000  | 0.0000000  | 0.0000000  | 0.0000000  | 0.0000000  | 0.0000000  | 0.0000000  | 0.0000000  |\n",
    "+------+------------+------------+------------+------------+------------+------------+------------+------------+------------+------------+\n",
    "'''\n",
    "cat = 'cat'"
   ]
  },
  {
   "cell_type": "code",
   "execution_count": 6,
   "metadata": {},
   "outputs": [],
   "source": [
    "avgs_by_bound = np.mean(loss_avgs, axis=1)\n",
    "avgs_by_redshift = np.mean(loss_avgs, axis=0)"
   ]
  },
  {
   "cell_type": "code",
   "execution_count": 1,
   "metadata": {},
   "outputs": [
    {
     "ename": "NameError",
     "evalue": "name 'bounds' is not defined",
     "output_type": "error",
     "traceback": [
      "\u001b[0;31m---------------------------------------------------------------------------\u001b[0m",
      "\u001b[0;31mNameError\u001b[0m                                 Traceback (most recent call last)",
      "\u001b[0;32m<ipython-input-1-816191a05bc6>\u001b[0m in \u001b[0;36m<module>\u001b[0;34m()\u001b[0m\n\u001b[0;32m----> 1\u001b[0;31m \u001b[0mbounds\u001b[0m\u001b[0;34m[\u001b[0m\u001b[0mnp\u001b[0m\u001b[0;34m.\u001b[0m\u001b[0margmin\u001b[0m\u001b[0;34m(\u001b[0m\u001b[0mavgs_by_bound\u001b[0m\u001b[0;34m)\u001b[0m\u001b[0;34m]\u001b[0m\u001b[0;34m\u001b[0m\u001b[0m\n\u001b[0m",
      "\u001b[0;31mNameError\u001b[0m: name 'bounds' is not defined"
     ]
    }
   ],
   "source": [
    "bounds[np.argmin(avgs_by_bound)]"
   ]
  },
  {
   "cell_type": "code",
   "execution_count": 27,
   "metadata": {},
   "outputs": [
    {
     "data": {
      "image/png": "[encoded data removed]",
      "text/plain": [
       "<matplotlib.figure.Figure at 0x7ffb6023b470>"
      ]
     },
     "metadata": {},
     "output_type": "display_data"
    }
   ],
   "source": [
    "avgs = avgs_by_bound\n",
    "plt.clf()\n",
    "plt.plot(avgs)\n",
    "plt.stem(avgs)\n",
    "plt.show()"
   ]
  }
 ],
 "metadata": {
  "kernelspec": {
   "display_name": "Python 3",
   "language": "python",
   "name": "python3"
  },
  "language_info": {
   "codemirror_mode": {
    "name": "ipython",
    "version": 3
   },
   "file_extension": ".py",
   "mimetype": "text/x-python",
   "name": "python",
   "nbconvert_exporter": "python",
   "pygments_lexer": "ipython3",
   "version": "3.6.3"
  }
 },
 "nbformat": 4,
 "nbformat_minor": 2
}
