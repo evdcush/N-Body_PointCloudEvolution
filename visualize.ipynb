{
 "cells": [
  {
   "cell_type": "code",
   "execution_count": null,
   "metadata": {},
   "outputs": [],
   "source": [
    "''' notebook for visualizing results in matplotlib\n",
    "'''\n",
    "import os, code, sys, time, argparse\n",
    "\n",
    "import numpy as np\n",
    "import matplotlib.pyplot as plt\n",
    "from mpl_toolkits.mplot3d import Axes3D\n",
    "from sklearn.neighbors import kneighbors_graph\n",
    "import tensorflow as tf\n",
    "\n",
    "import utils\n",
    "import nn\n",
    "from utils import REDSHIFTS, PARAMS_SEED, LEARNING_RATE, RS_TAGS"
   ]
  },
  {
   "cell_type": "code",
   "execution_count": null,
   "metadata": {},
   "outputs": [],
   "source": [
    "'''\n",
    "Data paths n load\n",
    "'''\n",
    "dpath = './Model/MSingle_agg_ZG_3-19/Cubes/X32_3-19_{}.npy'\n",
    "spath = './Imgs/'\n",
    "\n",
    "# load\n",
    "X_true = np.load(dpath.format('true'))[...,:-1] # dont need redshift vec\n",
    "X_pred = np.load(dpath.format('prediction'))\n",
    "print('X_true.shape: {}\\nX_pred.shape: {}'.format(X_true.shape, X_pred.shape))"
   ]
  },
  {
   "cell_type": "code",
   "execution_count": null,
   "metadata": {},
   "outputs": [],
   "source": [
    "''' Data vars\n",
    "'''\n",
    "redshift_steps = [3, 7, 11, 15, 19]\n",
    "redshifts = [utils.REDSHIFTS_ZUNI[i] for i in redshift_steps]\n",
    "num_rs = len(redshift_steps)\n",
    "num_rs_layers = num_rs - 1"
   ]
  },
  {
   "cell_type": "code",
   "execution_count": null,
   "metadata": {},
   "outputs": [],
   "source": [
    "xt = np.copy(X_true)\n",
    "xh = np.copy(X_pred)"
   ]
  },
  {
   "cell_type": "code",
   "execution_count": null,
   "metadata": {},
   "outputs": [],
   "source": [
    "''' Plot fns\n",
    "'''\n",
    "def plot_3D_pointcloud(xt, xh, rs_idx, sample_idx, pt_size=(.9,.9), colors=('b','r'), fsize=(18,18)):\n",
    "    j = sample_idx\n",
    "    rs = rs_idx\n",
    "    xt_x, xt_y, xt_z = np.split(xt[rs,:,:,:3], 3, axis=-1)\n",
    "    xh_x, xh_y, xh_z = np.split(xh[rs-1,:,:,:3], 3, axis=-1)\n",
    "\n",
    "    fig = plt.figure(figsize=fsize)\n",
    "    ax = fig.add_subplot(111, projection='3d')\n",
    "    ax.scatter(xt_x[j], xt_y[j], xt_z[j], s=pt_size[0], c=colors[0])\n",
    "    ax.scatter(xh_x[j], xh_y[j], xh_z[j], s=pt_size[1], c=colors[1])\n",
    "\n",
    "    ax.set_xlabel('X', size=20)\n",
    "    ax.set_ylabel('Y', size=20)\n",
    "    ax.set_zlabel('Z', size=20)\n",
    "    return fig"
   ]
  },
  {
   "cell_type": "code",
   "execution_count": null,
   "metadata": {},
   "outputs": [],
   "source": [
    "'''\n",
    "plot point cloud\n",
    "'''\n",
    "from IPython import display\n",
    "fsize = (16,16)\n",
    "particle_size = (.6, 1.3)\n",
    "truth_color = 'blue'\n",
    "pred_color = 'red'\n",
    "colors = (truth_color, pred_color)\n",
    "\n",
    "sample_idx = 3\n",
    "rs_idx = 4\n",
    "idx_tup = (rs_idx, sample_idx)\n",
    "\n",
    "plt.close('all')\n",
    "fig = plot_3D_pointcloud(xt, xh, *idx_tup, colors=colors, pt_size=particle_size, fsize=fsize)\n",
    "plt.gca().view_init(20, 120)\n",
    "display.display(plt.gcf())\n",
    "display.clear_output(wait=True)\n",
    "time.sleep(0.0001)\n",
    "rotate = True\n",
    "if rotate:\n",
    "    for angle in range(0,360,60):\n",
    "        #fig.view_init(30, angle)\n",
    "        plt.gca().view_init(30, angle)\n",
    "        display.display(plt.gcf())\n",
    "        display.clear_output(wait=True)\n",
    "        time.sleep(0.0001)\n",
    "#fig.savefig('./Plots/' + model_name, dpi=2400,bbox_inches='tight') # warning, this makes a huge image"
   ]
  },
  {
   "cell_type": "code",
   "execution_count": null,
   "metadata": {},
   "outputs": [],
   "source": []
  }
 ],
 "metadata": {
  "kernelspec": {
   "display_name": "Python 3",
   "language": "python",
   "name": "python3"
  },
  "language_info": {
   "codemirror_mode": {
    "name": "ipython",
    "version": 3
   },
   "file_extension": ".py",
   "mimetype": "text/x-python",
   "name": "python",
   "nbconvert_exporter": "python",
   "pygments_lexer": "ipython3",
   "version": "3.6.4"
  }
 },
 "nbformat": 4,
 "nbformat_minor": 2
}
