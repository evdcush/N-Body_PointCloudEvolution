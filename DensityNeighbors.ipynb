{
 "cells": [
  {
   "cell_type": "code",
   "execution_count": 1,
   "metadata": {},
   "outputs": [],
   "source": [
    "import os, code, sys, time, argparse\n",
    "\n",
    "import numpy as np\n",
    "import sklearn.neighbors as skn\n",
    "from sklearn.neighbors import kneighbors_graph, radius_neighbors_graph\n",
    "import tensorflow as tf\n",
    "\n",
    "import utils\n",
    "import nn\n",
    "from utils import REDSHIFTS, PARAMS_SEED, LEARNING_RATE, RS_TAGS"
   ]
  },
  {
   "cell_type": "code",
   "execution_count": 2,
   "metadata": {},
   "outputs": [
    {
     "name": "stdout",
     "output_type": "stream",
     "text": [
      "LD: X_0.5588_.npy\n",
      "LD: X_0.0000_.npy\n",
      "X.shape: (1000, 32768, 6)\n"
     ]
    }
   ],
   "source": [
    "# data specs\n",
    "num_particles = 32\n",
    "redshift_steps = [11,19]\n",
    "num_rs = len(redshift_steps)\n",
    "num_rs_layers = num_rs - 1\n",
    "\n",
    "# load data\n",
    "X = utils.load_zuni_npy_data(redshifts=redshift_steps, norm_coo=True)[...,:-1]\n",
    "Y = X[1]\n",
    "X = X[0]\n",
    "print('X.shape: {}'.format(X.shape))"
   ]
  },
  {
   "cell_type": "code",
   "execution_count": 3,
   "metadata": {},
   "outputs": [],
   "source": [
    "''' neighbors stuff\n",
    "'''\n",
    "# KNN\n",
    "def alist_to_indexlist(alist):\n",
    "    \"\"\" Reshapes adjacency list for tensorflow gather_nd func\n",
    "    alist.shape: (B, N, K)\n",
    "    ret.shape:   (B*N*K, 2)\n",
    "    \"\"\"\n",
    "    batch_size, N, K = alist.shape\n",
    "    id1 = np.reshape(np.arange(batch_size),[batch_size,1])\n",
    "    id1 = np.tile(id1,N*K).flatten()\n",
    "    out = np.stack([id1,alist.flatten()], axis=1).astype(np.int32)\n",
    "    return out\n",
    "\n",
    "def knn_alist(x, K=14):\n",
    "    return kneighbors_graph(x[...,:3], K, include_self=True)\n",
    "\n",
    "def get_kneighbor_alist(X_in, K=14):\n",
    "    \"\"\" search for K nneighbors, and return offsetted indices in adjacency list\n",
    "    No periodic boundary conditions used\n",
    "\n",
    "    Args:\n",
    "        X_in (numpy ndarray): input data of shape (mb_size, N, 6)\n",
    "    \"\"\"\n",
    "    mb_size, N, D = X_in.shape\n",
    "    adj_list = np.zeros([mb_size, N, K], dtype=np.int32)\n",
    "    for i in range(mb_size):\n",
    "        # this returns indices of the nn\n",
    "        #graph_idx = kneighbors_graph(X_in[i, :, :3], K, include_self=True).indices\n",
    "        graph_idx = knn_alist(X_in[i], K).indices\n",
    "        graph_idx = graph_idx.reshape([N, K]) #+ (N * i)  # offset idx for batches\n",
    "        adj_list[i] = graph_idx\n",
    "    return adj_list\n",
    "\n",
    "def kgraph_conv(h, adj, K):\n",
    "    \"\"\" Graph convolution op for KNN-based adjacency lists\n",
    "    build graph tensor with gather_nd, and take\n",
    "    mean on KNN dim: mean((mb_size, N, K, k_in), axis=2)\n",
    "    Args:\n",
    "        h: data tensor, (mb_size, N, k_in)\n",
    "        adj: adjacency index list, for gather_nd (*, 2)\n",
    "        K (int): num nearest neighbors\n",
    "    \"\"\"\n",
    "    dims = tf.shape(h)\n",
    "    mb = dims[0]; n  = dims[1]; d  = dims[2];\n",
    "    rdim = [mb,n,K,d]\n",
    "    nn_graph = tf.reduce_mean(tf.reshape(tf.gather_nd(h, adj), rdim), axis=2)\n",
    "    return nn_graph\n",
    "\n",
    "def knn_fn(h_in): # for tf.py_func\n",
    "    return alist_to_indexlist(get_kneighbor_alist(h_in, K))"
   ]
  },
  {
   "cell_type": "code",
   "execution_count": 29,
   "metadata": {},
   "outputs": [
    {
     "data": {
      "text/plain": [
       "'\\ncsr: indptr, indices, data\\n\\nfor sample i\\n\\nrad_graph indices at: \\nrad_graph_indices = indices[indptr[i]:indptr[i+1]]\\n\\n'"
      ]
     },
     "execution_count": 29,
     "metadata": {},
     "output_type": "execute_result"
    }
   ],
   "source": [
    "def rad_fn(h_in, rad=0.08):\n",
    "    return radius_neighbors_graph(h_in[...,:3], rad, include_self=True).astype(np.float32)\n",
    "\n",
    "def knn_alist(x, K=14):\n",
    "    return kneighbors_graph(x[...,:3], K, include_self=True)\n",
    "\n",
    "'''\n",
    "csr: indptr, indices, data\n",
    "\n",
    "for sample i\n",
    "\n",
    "rad_graph indices at: \n",
    "rad_graph_indices = indices[indptr[i]:indptr[i+1]]\n",
    "\n",
    "'''"
   ]
  },
  {
   "cell_type": "code",
   "execution_count": 5,
   "metadata": {},
   "outputs": [],
   "source": [
    "K = 8\n",
    "R = 0.08\n",
    "j = 375\n",
    "x = X[j]\n",
    "\n",
    "# knn\n",
    "x_k = knn_alist(np.copy(x), K) # (N * K) == (32768 * 8) == (262144)\n",
    "k_indptr = x_k.indptr\n",
    "k_indices = x_k.indices\n",
    "\n",
    "# rad\n",
    "x_r = rad_fn(np.copy(x), R)\n",
    "r_indptr = x_r.indptr\n",
    "r_indices = x_r.indices"
   ]
  },
  {
   "cell_type": "code",
   "execution_count": 6,
   "metadata": {},
   "outputs": [],
   "source": [
    "def get_sample_idx(csr, j):\n",
    "    return csr.indices[csr.indptr[j]:csr.indptr[j+1]]\n",
    "\n",
    "def get_adj(x, idx):\n",
    "    return x[np.sort(idx)]"
   ]
  },
  {
   "cell_type": "code",
   "execution_count": 57,
   "metadata": {},
   "outputs": [],
   "source": [
    "k_idx = get_sample_idx(x_k, 0)\n",
    "r_idx = get_sample_idx(x_r, 0)"
   ]
  },
  {
   "cell_type": "code",
   "execution_count": 6,
   "metadata": {},
   "outputs": [],
   "source": [
    "'''\n",
    "Now, how to do graph conv\n",
    "'''\n",
    "N = 32**3\n",
    "sess = tf.InteractiveSession()\n",
    "#k_idx = np.reshape(k_indices, (N, K))\n",
    "#xk_gathered = tf.gather(x, k_idx).eval() # same as x[k_idx]"
   ]
  },
  {
   "cell_type": "code",
   "execution_count": 7,
   "metadata": {},
   "outputs": [],
   "source": [
    "x_r = x_r.astype(np.float32)"
   ]
  },
  {
   "cell_type": "code",
   "execution_count": 7,
   "metadata": {},
   "outputs": [
    {
     "data": {
      "text/plain": [
       "(32768, 1)"
      ]
     },
     "execution_count": 7,
     "metadata": {},
     "output_type": "execute_result"
    }
   ],
   "source": [
    "#diffs = np.sum(xr_dense, axis=-1, keepdims=True)[...,None]\n",
    "diffs = np.diff(x_r.indptr)[...,None]\n",
    "diffs.shape"
   ]
  },
  {
   "cell_type": "code",
   "execution_count": 10,
   "metadata": {},
   "outputs": [],
   "source": [
    "def convert_sparse_matrix_to_sparse_tensor(X):\n",
    "    X = X.astype(np.float32)\n",
    "    coo = X.tocoo()\n",
    "    indices = np.mat([coo.row, coo.col]).transpose()\n",
    "    return tf.SparseTensor(indices, coo.data, coo.shape)\n",
    "\n",
    "def convert_batch(lst):\n",
    "    num_csr = len(lst)\n",
    "    x = lst[0]\n",
    "    b = len(lst)\n",
    "    N = x.shape[0]\n",
    "    rshape = (b, N, N)\n",
    "    coo = x.tocoo()\n",
    "    idx = np.mat([coo.row, coo.col]).transpose()[None,...]\n",
    "    data = coo.data\n",
    "    \n",
    "    \n",
    "    \n",
    "    \n",
    "    \n",
    "\n",
    "def tf_sparse_matmul(sparse_mat, x, diffs):\n",
    "    return tf.sparse_tensor_dense_matmul(sparse_mat, x) / diffs"
   ]
  },
  {
   "cell_type": "code",
   "execution_count": 30,
   "metadata": {},
   "outputs": [],
   "source": [
    "r1 = rad_fn(np.copy(X[1]), R)\n",
    "r2 = rad_fn(np.copy(X[2]), R)\n",
    "r3 = rad_fn(np.copy(X[3]), R)\n",
    "r4 = rad_fn(np.copy(X[4]), R)"
   ]
  },
  {
   "cell_type": "code",
   "execution_count": 41,
   "metadata": {},
   "outputs": [
    {
     "data": {
      "text/plain": [
       "(32768, 32768)"
      ]
     },
     "execution_count": 41,
     "metadata": {},
     "output_type": "execute_result"
    }
   ],
   "source": [
    "r1.shape"
   ]
  },
  {
   "cell_type": "code",
   "execution_count": 35,
   "metadata": {},
   "outputs": [],
   "source": [
    "import scipy.sparse as sp\n",
    "#rstacked = sp.vstack((r1, r2, r3, r4))\n",
    "#hstacked = sp.hstack([r1,r2,r3,r4])"
   ]
  },
  {
   "cell_type": "code",
   "execution_count": 38,
   "metadata": {},
   "outputs": [
    {
     "ename": "NotImplementedError",
     "evalue": "Reshaping not implemented for coo_matrix.",
     "output_type": "error",
     "traceback": [
      "\u001b[0;31m---------------------------------------------------------------------------\u001b[0m",
      "\u001b[0;31mNotImplementedError\u001b[0m                       Traceback (most recent call last)",
      "\u001b[0;32m<ipython-input-38-11d223f9e6a7>\u001b[0m in \u001b[0;36m<module>\u001b[0;34m()\u001b[0m\n\u001b[0;32m----> 1\u001b[0;31m \u001b[0mhstacked\u001b[0m\u001b[0;34m.\u001b[0m\u001b[0mreshape\u001b[0m\u001b[0;34m(\u001b[0m\u001b[0;34m(\u001b[0m\u001b[0;36m4\u001b[0m\u001b[0;34m,\u001b[0m \u001b[0;36m32768\u001b[0m\u001b[0;34m,\u001b[0m \u001b[0;36m32768\u001b[0m\u001b[0;34m)\u001b[0m\u001b[0;34m)\u001b[0m\u001b[0;34m\u001b[0m\u001b[0m\n\u001b[0m",
      "\u001b[0;32m~/.pyenv/versions/3.6.5/envs/U/lib/python3.6/site-packages/scipy/sparse/base.py\u001b[0m in \u001b[0;36mreshape\u001b[0;34m(self, shape, order)\u001b[0m\n\u001b[1;32m    127\u001b[0m         \"\"\"\n\u001b[1;32m    128\u001b[0m         raise NotImplementedError(\"Reshaping not implemented for %s.\" %\n\u001b[0;32m--> 129\u001b[0;31m                                   self.__class__.__name__)\n\u001b[0m\u001b[1;32m    130\u001b[0m \u001b[0;34m\u001b[0m\u001b[0m\n\u001b[1;32m    131\u001b[0m     \u001b[0;32mdef\u001b[0m \u001b[0mastype\u001b[0m\u001b[0;34m(\u001b[0m\u001b[0mself\u001b[0m\u001b[0;34m,\u001b[0m \u001b[0mdtype\u001b[0m\u001b[0;34m,\u001b[0m \u001b[0mcasting\u001b[0m\u001b[0;34m=\u001b[0m\u001b[0;34m'unsafe'\u001b[0m\u001b[0;34m,\u001b[0m \u001b[0mcopy\u001b[0m\u001b[0;34m=\u001b[0m\u001b[0;32mTrue\u001b[0m\u001b[0;34m)\u001b[0m\u001b[0;34m:\u001b[0m\u001b[0;34m\u001b[0m\u001b[0m\n",
      "\u001b[0;31mNotImplementedError\u001b[0m: Reshaping not implemented for coo_matrix."
     ]
    }
   ],
   "source": [
    "hstacked.reshape((4, 32768, 32768))"
   ]
  },
  {
   "cell_type": "code",
   "execution_count": 16,
   "metadata": {},
   "outputs": [],
   "source": [
    "x_r = x_r.astype(np.float32)"
   ]
  },
  {
   "cell_type": "code",
   "execution_count": 17,
   "metadata": {},
   "outputs": [],
   "source": [
    "coo = x_r.tocoo()\n",
    "crow = coo.row\n",
    "ccol = coo.col\n",
    "idx = np.mat([crow, ccol])"
   ]
  },
  {
   "cell_type": "code",
   "execution_count": 46,
   "metadata": {},
   "outputs": [
    {
     "data": {
      "text/plain": [
       "(4041060,)"
      ]
     },
     "execution_count": 46,
     "metadata": {},
     "output_type": "execute_result"
    }
   ],
   "source": [
    "coo.data.shape"
   ]
  },
  {
   "cell_type": "code",
   "execution_count": 48,
   "metadata": {},
   "outputs": [
    {
     "data": {
      "text/plain": [
       "1073741824"
      ]
     },
     "execution_count": 48,
     "metadata": {},
     "output_type": "execute_result"
    }
   ],
   "source": [
    "32768**2"
   ]
  },
  {
   "cell_type": "code",
   "execution_count": 11,
   "metadata": {},
   "outputs": [],
   "source": [
    "rad_sparseT = convert_sparse_matrix_to_sparse_tensor(x_r)\n",
    "spm = tf_sparse_matmul(rad_sparseT, x, diffs)"
   ]
  },
  {
   "cell_type": "code",
   "execution_count": 12,
   "metadata": {},
   "outputs": [],
   "source": [
    "xr_dense = np.array(x_r.todense()).astype(np.float32)\n",
    "np_matmul = np.matmul(xr_dense, x) / diffs"
   ]
  },
  {
   "cell_type": "code",
   "execution_count": 20,
   "metadata": {},
   "outputs": [],
   "source": [
    "tf_matmul = spm.eval()"
   ]
  },
  {
   "cell_type": "code",
   "execution_count": 44,
   "metadata": {},
   "outputs": [
    {
     "data": {
      "text/plain": [
       "<tensorflow.python.framework.sparse_tensor.SparseTensor at 0x7f94a634eb70>"
      ]
     },
     "execution_count": 44,
     "metadata": {},
     "output_type": "execute_result"
    }
   ],
   "source": [
    "sess = tf.InteractiveSession()\n",
    "rad_sparseT"
   ]
  },
  {
   "cell_type": "code",
   "execution_count": 23,
   "metadata": {},
   "outputs": [
    {
     "data": {
      "text/plain": [
       "False"
      ]
     },
     "execution_count": 23,
     "metadata": {},
     "output_type": "execute_result"
    }
   ],
   "source": [
    "np.allclose(tf_matmul, np_matmul)"
   ]
  },
  {
   "cell_type": "code",
   "execution_count": 28,
   "metadata": {},
   "outputs": [
    {
     "data": {
      "text/plain": [
       "True"
      ]
     },
     "execution_count": 28,
     "metadata": {},
     "output_type": "execute_result"
    }
   ],
   "source": [
    "np.allclose(tf_matmul, np_matmul, atol=1e06)"
   ]
  }
 ],
 "metadata": {
  "kernelspec": {
   "display_name": "Python 3",
   "language": "python",
   "name": "python3"
  },
  "language_info": {
   "codemirror_mode": {
    "name": "ipython",
    "version": 3
   },
   "file_extension": ".py",
   "mimetype": "text/x-python",
   "name": "python",
   "nbconvert_exporter": "python",
   "pygments_lexer": "ipython3",
   "version": "3.6.5"
  }
 },
 "nbformat": 4,
 "nbformat_minor": 2
}
