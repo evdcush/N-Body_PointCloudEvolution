{
 "cells": [
  {
   "cell_type": "code",
   "execution_count": 1,
   "metadata": {},
   "outputs": [],
   "source": [
    "import os, code, sys, time, argparse\n",
    "\n",
    "import numpy as np\n",
    "from sklearn.neighbors import kneighbors_graph\n",
    "import tensorflow as tf\n",
    "\n",
    "import utils\n",
    "import nn\n",
    "from utils import REDSHIFTS, PARAMS_SEED, LEARNING_RATE, RS_TAGS"
   ]
  },
  {
   "cell_type": "code",
   "execution_count": 2,
   "metadata": {},
   "outputs": [],
   "source": [
    "n_P = 32\n",
    "N = n_P**3\n",
    "M = 14\n",
    "k = 3\n",
    "b = 4\n",
    "redshifts = [15, 19]"
   ]
  },
  {
   "cell_type": "code",
   "execution_count": 3,
   "metadata": {},
   "outputs": [
    {
     "name": "stdout",
     "output_type": "stream",
     "text": [
      "LD: X_0.2280_.npy\n",
      "LD: X_0.0000_.npy\n"
     ]
    }
   ],
   "source": [
    "# Load data\n",
    "X = utils.load_zuni_npy_data(redshifts=redshifts, norm_coo=True)[...,:-1]\n",
    "Y = X[1] # (1000, N, 6)\n",
    "X = X[0]"
   ]
  },
  {
   "cell_type": "code",
   "execution_count": 4,
   "metadata": {},
   "outputs": [],
   "source": [
    "_x_batch = utils.next_minibatch(X[None,...], b, data_aug=False) # shape (2, b, N, 6)\n",
    "\n",
    "# split data\n",
    "x_in    = _x_batch[0] # (b, N, 6)\n",
    "#x_truth = _x_batch[1] # (b, N, 6)\n",
    "\n",
    "def graph_get_func(h_in, offset=False, inc_self=False): # for tf.py_func\n",
    "    return nn.get_kneighbor_list(h_in[...,:3], M, offset_idx=offset, inc_self=inc_self)\n",
    "\n",
    "# get adj_list\n",
    "#adj_list = graph_get_func(x_in) # (b, N, M)\n",
    "#ilist    = nn.alist_to_indexlist(adj_list)\n",
    "adj_csrs = graph_get_func(x_in)\n",
    "adj_csrs_offset = graph_get_func(x_in, offset=True)\n",
    "\n",
    "# get edges (relative dists) and nodes (velocities)\n",
    "#x_in_edges = nn.get_input_edge_features(x_in, adj_list) # (b, N, M, 3)\n",
    "#x_in_nodes = nn.get_input_node_features(x_in) # (b, N, 3)"
   ]
  },
  {
   "cell_type": "code",
   "execution_count": 5,
   "metadata": {},
   "outputs": [
    {
     "data": {
      "text/plain": [
       "True"
      ]
     },
     "execution_count": 5,
     "metadata": {},
     "output_type": "execute_result"
    }
   ],
   "source": [
    "edges = nn.get_input_edge_features_batch(x_in, adj_csrs, M) # (b, N*M, 3)\n",
    "edges_off = nn.get_input_edge_features_batch_offset(x_in, adj_csrs_offset, M)\n",
    "np.all(edges == edges_off)"
   ]
  },
  {
   "cell_type": "code",
   "execution_count": 45,
   "metadata": {},
   "outputs": [],
   "source": [
    "def offset_coo_feats(m_in):\n",
    "    m = np.copy(m_in)\n",
    "    b = m.shape[0]\n",
    "    for i in range(b):\n",
    "        m[i] += i*N\n",
    "    return m"
   ]
  },
  {
   "cell_type": "code",
   "execution_count": 46,
   "metadata": {},
   "outputs": [],
   "source": [
    "coo_rows, coo_cols = nn.to_coo_batch(adj_csrs) # (b, N*M)\n",
    "coo_rows_offset = offset_coo_feats(coo_rows)\n",
    "coo_cols_offset = offset_coo_feats(coo_cols)"
   ]
  },
  {
   "cell_type": "code",
   "execution_count": 51,
   "metadata": {},
   "outputs": [
    {
     "name": "stderr",
     "output_type": "stream",
     "text": [
      "/home/evan/.pyenv/versions/3.6.5/envs/Q/lib/python3.6/site-packages/tensorflow/python/client/session.py:1711: UserWarning: An interactive session is already active. This can cause out-of-memory errors in some cases. You must explicitly call `InteractiveSession.close()` to release resources held by the other session(s).\n",
      "  warnings.warn('An interactive session is already active. This can '\n"
     ]
    }
   ],
   "source": [
    "sess = tf.InteractiveSession()"
   ]
  },
  {
   "cell_type": "code",
   "execution_count": 110,
   "metadata": {},
   "outputs": [
    {
     "data": {
      "text/plain": [
       "'\\n    if bcast:\\n        seg_mu = tf.gather_nd(x, tf.expand_dims(idx, axis=2))\\n        return tf.reshape(seg_mu, tf.shape(x)).eval()\\n    else:\\n        return tf.reshape(seg_mu, [b, N, -1]).eval()\\n'"
      ]
     },
     "execution_count": 110,
     "metadata": {},
     "output_type": "execute_result"
    }
   ],
   "source": [
    "def usm(x, idx_in, num_seg, offset=False, bcast=False):\n",
    "    return tf.unsorted_segment_mean(x, idx_in, num_seg).eval()\n",
    "'''\n",
    "def usm(x, idx_in, num_seg, offset=False, bcast=False):\n",
    "    if not offset:\n",
    "        idx = idx_in + N * np.expand_dims(np.arange(b), axis=1)\n",
    "        seg_mu = tf.unsorted_segment_mean(x, idx, num_seg)\n",
    "        #return tf.unsorted_segment_mean(x, b_idx, num_seg).eval()\n",
    "    else:\n",
    "        idx = idx_in\n",
    "        seg_mu = tf.unsorted_segment_mean(x, idx, num_seg)\n",
    "        #return tf.unsorted_segment_mean(x, idx, num_seg).eval()\n",
    "    return tf.reshape(seg_mu, [b, N, -1]).eval()\n",
    "'''\n",
    "'''\n",
    "    if bcast:\n",
    "        seg_mu = tf.gather_nd(x, tf.expand_dims(idx, axis=2))\n",
    "        return tf.reshape(seg_mu, tf.shape(x)).eval()\n",
    "    else:\n",
    "        return tf.reshape(seg_mu, [b, N, -1]).eval()\n",
    "'''\n"
   ]
  },
  {
   "cell_type": "code",
   "execution_count": 75,
   "metadata": {},
   "outputs": [],
   "source": [
    "pool_rows = usm(edges, coo_cols, b*N, bcast=True)\n",
    "pool_rows_off = usm(edges, coo_cols_offset, b*N, offset=True, bcast=True)"
   ]
  },
  {
   "cell_type": "code",
   "execution_count": 59,
   "metadata": {},
   "outputs": [
    {
     "data": {
      "text/plain": [
       "array([[-0.0083453 , -0.00777651, -0.00649213],\n",
       "       [ 0.00063422,  0.00049963,  0.00145065],\n",
       "       [ 0.0005162 , -0.00132297,  0.00078389],\n",
       "       ...,\n",
       "       [-0.00273841,  0.00151067,  0.00600649],\n",
       "       [ 0.00547061,  0.00369451, -0.00135117],\n",
       "       [-0.00511382,  0.00562881,  0.00616319]], dtype=float32)"
      ]
     },
     "execution_count": 59,
     "metadata": {},
     "output_type": "execute_result"
    }
   ],
   "source": [
    "pool_rows # (b, N, k)"
   ]
  },
  {
   "cell_type": "code",
   "execution_count": 60,
   "metadata": {},
   "outputs": [
    {
     "data": {
      "text/plain": [
       "array([[-0.0083453 , -0.00777651, -0.00649213],\n",
       "       [ 0.00063422,  0.00049963,  0.00145065],\n",
       "       [ 0.0005162 , -0.00132297,  0.00078389],\n",
       "       ...,\n",
       "       [-0.00273841,  0.00151067,  0.00600649],\n",
       "       [ 0.00547061,  0.00369451, -0.00135117],\n",
       "       [-0.00511382,  0.00562881,  0.00616319]], dtype=float32)"
      ]
     },
     "execution_count": 60,
     "metadata": {},
     "output_type": "execute_result"
    }
   ],
   "source": [
    "pool_rows_off"
   ]
  },
  {
   "cell_type": "code",
   "execution_count": 77,
   "metadata": {},
   "outputs": [
    {
     "data": {
      "text/plain": [
       "True"
      ]
     },
     "execution_count": 77,
     "metadata": {},
     "output_type": "execute_result"
    }
   ],
   "source": [
    "np.allclose(pool_rows, pool_rows_off) # True"
   ]
  },
  {
   "cell_type": "code",
   "execution_count": 108,
   "metadata": {},
   "outputs": [
    {
     "data": {
      "text/plain": [
       "(1835008,)"
      ]
     },
     "execution_count": 108,
     "metadata": {},
     "output_type": "execute_result"
    }
   ],
   "source": [
    "edge_c = np.reshape(edges, (-1, 3))\n",
    "coo_cols_offset_r = np.reshape(coo_cols_offset, (-1))\n",
    "coo_cols_offset_r.shape"
   ]
  },
  {
   "cell_type": "code",
   "execution_count": 111,
   "metadata": {},
   "outputs": [],
   "source": [
    "pool_rows_c = usm(edge_c, coo_cols_offset_r, b*N) # (131072, 3)"
   ]
  },
  {
   "cell_type": "code",
   "execution_count": 119,
   "metadata": {},
   "outputs": [],
   "source": [
    "prc_bcast_gath = tf.gather_nd(pool_rows_c, tf.expand_dims(coo_cols_offset_r, axis=1)).eval()\n",
    "prc_bcast_exp  = np.reshape(np.broadcast_to(np.expand_dims(pool_rows_c, axis=1),(pool_rows_c.shape[0], M, 3)), (-1, 3))"
   ]
  },
  {
   "cell_type": "code",
   "execution_count": 123,
   "metadata": {},
   "outputs": [],
   "source": [
    "prc_bcast_gath1 = tf.gather(pool_rows_c, coo_cols_offset_r).eval()"
   ]
  },
  {
   "cell_type": "code",
   "execution_count": 125,
   "metadata": {},
   "outputs": [
    {
     "data": {
      "text/plain": [
       "True"
      ]
     },
     "execution_count": 125,
     "metadata": {},
     "output_type": "execute_result"
    }
   ],
   "source": [
    "np.allclose(prc_bcast_gath1, prc_bcast_gath)"
   ]
  },
  {
   "cell_type": "code",
   "execution_count": 118,
   "metadata": {},
   "outputs": [
    {
     "data": {
      "text/plain": [
       "(131072, 1, 3)"
      ]
     },
     "execution_count": 118,
     "metadata": {},
     "output_type": "execute_result"
    }
   ],
   "source": [
    "exp = np.expand_dims(pool_rows_c, axis=1)\n",
    "exp = np.reshape(exp, (exp.shape[0], M, 3))"
   ]
  },
  {
   "cell_type": "code",
   "execution_count": 79,
   "metadata": {},
   "outputs": [
    {
     "data": {
      "text/plain": [
       "True"
      ]
     },
     "execution_count": 79,
     "metadata": {},
     "output_type": "execute_result"
    }
   ],
   "source": [
    "pool_cols = usm(edges, coo_rows, b*N)\n",
    "pool_cols_off = usm(edges, coo_rows_offset, b*N, offset=True)\n",
    "np.allclose(pool_cols, pool_cols_off)"
   ]
  },
  {
   "cell_type": "code",
   "execution_count": 80,
   "metadata": {},
   "outputs": [],
   "source": [
    "gather_idx = np.expand_dims(coo_cols_offset, axis=2) # (b, N*M, 1), gather_nd indexes into the first idx.shape[-1] dims"
   ]
  },
  {
   "cell_type": "code",
   "execution_count": 84,
   "metadata": {},
   "outputs": [
    {
     "data": {
      "text/plain": [
       "(4, 32768, 3)"
      ]
     },
     "execution_count": 84,
     "metadata": {},
     "output_type": "execute_result"
    }
   ],
   "source": [
    "pool_cols.shape"
   ]
  },
  {
   "cell_type": "code",
   "execution_count": 93,
   "metadata": {},
   "outputs": [
    {
     "data": {
      "text/plain": [
       "(458752,)"
      ]
     },
     "execution_count": 93,
     "metadata": {},
     "output_type": "execute_result"
    }
   ],
   "source": [
    "a0 = adj_csrs[0]\n",
    "a0.indices.shape"
   ]
  },
  {
   "cell_type": "code",
   "execution_count": 94,
   "metadata": {},
   "outputs": [
    {
     "data": {
      "text/plain": [
       "(458752,)"
      ]
     },
     "execution_count": 94,
     "metadata": {},
     "output_type": "execute_result"
    }
   ],
   "source": [
    "a0_coo = a0.tocoo()\n",
    "a0_coo.row.shape"
   ]
  },
  {
   "cell_type": "code",
   "execution_count": 99,
   "metadata": {},
   "outputs": [],
   "source": [
    "from sklearn.neighbors import kneighbors_graph, radius_neighbors_graph"
   ]
  },
  {
   "cell_type": "code",
   "execution_count": 100,
   "metadata": {},
   "outputs": [],
   "source": [
    "x0 = x_in[0,:,:3]\n",
    "k0 = kneighbors_graph(x0, M, include_self=False)\n",
    "r0 = radius_neighbors_graph(x0, 0.03, include_self=True)"
   ]
  },
  {
   "cell_type": "code",
   "execution_count": 102,
   "metadata": {},
   "outputs": [
    {
     "data": {
      "text/plain": [
       "(1380024,)"
      ]
     },
     "execution_count": 102,
     "metadata": {},
     "output_type": "execute_result"
    }
   ],
   "source": [
    "r0.data.shape"
   ]
  },
  {
   "cell_type": "code",
   "execution_count": 103,
   "metadata": {},
   "outputs": [
    {
     "data": {
      "text/plain": [
       "(458752,)"
      ]
     },
     "execution_count": 103,
     "metadata": {},
     "output_type": "execute_result"
    }
   ],
   "source": [
    "k0.data.shape"
   ]
  },
  {
   "cell_type": "code",
   "execution_count": 105,
   "metadata": {},
   "outputs": [
    {
     "data": {
      "text/plain": [
       "(1380024,)"
      ]
     },
     "execution_count": 105,
     "metadata": {},
     "output_type": "execute_result"
    }
   ],
   "source": [
    "r0.tocoo().row.shape"
   ]
  },
  {
   "cell_type": "code",
   "execution_count": 106,
   "metadata": {},
   "outputs": [
    {
     "data": {
      "text/plain": [
       "(1380024,)"
      ]
     },
     "execution_count": 106,
     "metadata": {},
     "output_type": "execute_result"
    }
   ],
   "source": [
    "r0.data.shape"
   ]
  }
 ],
 "metadata": {
  "kernelspec": {
   "display_name": "Python 3",
   "language": "python",
   "name": "python3"
  },
  "language_info": {
   "codemirror_mode": {
    "name": "ipython",
    "version": 3
   },
   "file_extension": ".py",
   "mimetype": "text/x-python",
   "name": "python",
   "nbconvert_exporter": "python",
   "pygments_lexer": "ipython3",
   "version": "3.6.5"
  }
 },
 "nbformat": 4,
 "nbformat_minor": 2
}
