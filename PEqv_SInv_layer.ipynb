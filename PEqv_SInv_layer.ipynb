{
 "cells": [
  {
   "cell_type": "code",
   "execution_count": 1,
   "metadata": {},
   "outputs": [],
   "source": [
    "import os, code, sys, time, argparse\n",
    "\n",
    "import numpy as np\n",
    "from sklearn.neighbors import kneighbors_graph\n",
    "import tensorflow as tf\n",
    "\n",
    "import utils\n",
    "import nn\n",
    "from utils import REDSHIFTS, PARAMS_SEED, LEARNING_RATE, RS_TAGS"
   ]
  },
  {
   "cell_type": "code",
   "execution_count": 2,
   "metadata": {},
   "outputs": [],
   "source": [
    "n_P = 32\n",
    "N = n_P**3\n",
    "M = 14\n",
    "k = 3\n",
    "b = 4\n",
    "redshifts = [15, 19]"
   ]
  },
  {
   "cell_type": "code",
   "execution_count": 3,
   "metadata": {},
   "outputs": [
    {
     "name": "stdout",
     "output_type": "stream",
     "text": [
      "LD: X_0.2280_.npy\n",
      "LD: X_0.0000_.npy\n"
     ]
    }
   ],
   "source": [
    "# Load data\n",
    "X = utils.load_zuni_npy_data(redshifts=redshifts, norm_coo=True)[...,:-1]\n",
    "Y = X[1] # (1000, N, 6)\n",
    "X = X[0]"
   ]
  },
  {
   "cell_type": "code",
   "execution_count": 4,
   "metadata": {},
   "outputs": [],
   "source": [
    "_x_batch = utils.next_minibatch(X[None,...], b, data_aug=False) # shape (2, b, N, 6)\n",
    "\n",
    "# split data\n",
    "x_in    = _x_batch[0] # (b, N, 6)\n",
    "#x_truth = _x_batch[1] # (b, N, 6)\n",
    "\n",
    "def graph_get_func(h_in, offset=False, inc_self=False): # for tf.py_func\n",
    "    return nn.get_kneighbor_list(h_in[...,:3], M, offset_idx=offset, inc_self=inc_self)\n",
    "\n",
    "# get adj_list\n",
    "#adj_list = graph_get_func(x_in) # (b, N, M)\n",
    "#ilist    = nn.alist_to_indexlist(adj_list)\n",
    "adj_csrs = graph_get_func(x_in)\n",
    "adj_csrs_offset = graph_get_func(x_in, offset=True)\n",
    "\n",
    "# get edges (relative dists) and nodes (velocities)\n",
    "#x_in_edges = nn.get_input_edge_features(x_in, adj_list) # (b, N, M, 3)\n",
    "#x_in_nodes = nn.get_input_node_features(x_in) # (b, N, 3)"
   ]
  },
  {
   "cell_type": "code",
   "execution_count": 7,
   "metadata": {},
   "outputs": [
    {
     "data": {
      "text/plain": [
       "True"
      ]
     },
     "execution_count": 7,
     "metadata": {},
     "output_type": "execute_result"
    }
   ],
   "source": [
    "edges = nn.get_input_edge_features_batch(x_in, adj_csrs, M)\n",
    "edges_off = nn.get_input_edge_features_batch_offset(x_in, adj_csrs_offset, M)\n",
    "np.all(edges == edges_off)"
   ]
  },
  {
   "cell_type": "code",
   "execution_count": 8,
   "metadata": {},
   "outputs": [],
   "source": [
    "sess = tf.InteractiveSession()"
   ]
  },
  {
   "cell_type": "code",
   "execution_count": 9,
   "metadata": {},
   "outputs": [],
   "source": [
    "def usm(x, idx, num_seg):\n",
    "    return tf.unsorted_segment_mean(x, idx, num_seg).eval()"
   ]
  },
  {
   "cell_type": "code",
   "execution_count": 46,
   "metadata": {},
   "outputs": [
    {
     "data": {
      "text/plain": [
       "array([ 7, 22,  2,  3, 13, 14, 16,  0, 18,  1,  9,  8, 17, 20, 12,  5, 10,\n",
       "       15,  6, 19, 11, 23,  4, 21])"
      ]
     },
     "execution_count": 46,
     "metadata": {},
     "output_type": "execute_result"
    }
   ],
   "source": [
    "np.random.permutation(np.arange(24))"
   ]
  },
  {
   "cell_type": "code",
   "execution_count": 73,
   "metadata": {},
   "outputs": [
    {
     "data": {
      "text/plain": [
       "(3, 6, 4)"
      ]
     },
     "execution_count": 73,
     "metadata": {},
     "output_type": "execute_result"
    }
   ],
   "source": [
    "c = 3\n",
    "P = 6\n",
    "Q = 4\n",
    "h = np.random.randint(0,30,(c, P*Q, 3)) # N: 6, M:4\n",
    "#idx = np.random.randint(0,4,(4,24)) # (b, N*M)\n",
    "idx = np.zeros((c, P, Q)).astype(np.int32)\n",
    "offset_idx = np.zeros((c, P, Q)).astype(np.int32)\n",
    "valid_idx = np.arange(P)\n",
    "for i in range(c):\n",
    "    for j in range(P):\n",
    "        cur_idx = np.random.choice(valid_idx, (Q,), replace=False)\n",
    "        idx[i, j] = cur_idx\n",
    "        offset_idx[i,j] = cur_idx + P*i\n",
    "idx.shape"
   ]
  },
  {
   "cell_type": "code",
   "execution_count": 74,
   "metadata": {},
   "outputs": [],
   "source": [
    "idx_in = idx.reshape(c, P*Q)"
   ]
  },
  {
   "cell_type": "code",
   "execution_count": 75,
   "metadata": {},
   "outputs": [
    {
     "data": {
      "text/plain": [
       "(3, 24)"
      ]
     },
     "execution_count": 75,
     "metadata": {},
     "output_type": "execute_result"
    }
   ],
   "source": [
    "per_batch = P * np.expand_dims(np.arange(c), axis=1) # (c,1): [[0], [6], [12]]\n",
    "idx_per_batch = idx_in + per_batch #\n",
    "idx_per_batch.shape"
   ]
  },
  {
   "cell_type": "code",
   "execution_count": 77,
   "metadata": {},
   "outputs": [
    {
     "data": {
      "text/plain": [
       "array([[13.28571429, 12.14285714, 16.21428571],\n",
       "       [12.63636364, 15.54545455, 17.72727273],\n",
       "       [16.81818182, 15.90909091, 16.63636364],\n",
       "       [16.81818182,  8.        , 13.36363636],\n",
       "       [16.46666667, 13.        , 15.26666667],\n",
       "       [17.6       , 11.9       , 11.5       ],\n",
       "       [ 0.        ,  0.        ,  0.        ],\n",
       "       [ 0.        ,  0.        ,  0.        ],\n",
       "       [ 0.        ,  0.        ,  0.        ],\n",
       "       [ 0.        ,  0.        ,  0.        ],\n",
       "       [ 0.        ,  0.        ,  0.        ],\n",
       "       [ 0.        ,  0.        ,  0.        ],\n",
       "       [ 0.        ,  0.        ,  0.        ],\n",
       "       [ 0.        ,  0.        ,  0.        ],\n",
       "       [ 0.        ,  0.        ,  0.        ],\n",
       "       [ 0.        ,  0.        ,  0.        ],\n",
       "       [ 0.        ,  0.        ,  0.        ],\n",
       "       [ 0.        ,  0.        ,  0.        ]])"
      ]
     },
     "execution_count": 77,
     "metadata": {},
     "output_type": "execute_result"
    }
   ],
   "source": [
    "usm(h, idx_in, c*P)"
   ]
  },
  {
   "cell_type": "code",
   "execution_count": 76,
   "metadata": {},
   "outputs": [
    {
     "data": {
      "text/plain": [
       "array([[19.25      , 15.        , 24.25      ],\n",
       "       [12.66666667, 19.66666667, 18.        ],\n",
       "       [19.4       , 13.6       , 24.8       ],\n",
       "       [17.66666667,  5.33333333, 13.33333333],\n",
       "       [19.25      , 16.25      , 22.5       ],\n",
       "       [14.        , 14.5       , 20.        ],\n",
       "       [ 8.25      ,  9.        , 14.        ],\n",
       "       [ 3.5       , 20.5       , 27.5       ],\n",
       "       [14.75      , 18.5       , 11.75      ],\n",
       "       [13.25      ,  7.        , 20.75      ],\n",
       "       [15.33333333,  9.66666667, 11.83333333],\n",
       "       [19.25      ,  7.75      , 13.25      ],\n",
       "       [12.66666667, 12.33333333, 12.33333333],\n",
       "       [18.66666667,  4.        , 10.66666667],\n",
       "       [14.5       , 16.5       ,  6.        ],\n",
       "       [19.75      , 11.        ,  6.        ],\n",
       "       [15.6       , 14.4       , 13.6       ],\n",
       "       [17.75      , 14.75      ,  5.5       ]])"
      ]
     },
     "execution_count": 76,
     "metadata": {},
     "output_type": "execute_result"
    }
   ],
   "source": [
    "usm(h, idx_per_batch, c*P)"
   ]
  },
  {
   "cell_type": "code",
   "execution_count": 79,
   "metadata": {},
   "outputs": [],
   "source": [
    "offset_idx_r = np.reshape(offset_idx, (c, P*Q))"
   ]
  },
  {
   "cell_type": "code",
   "execution_count": 81,
   "metadata": {},
   "outputs": [
    {
     "data": {
      "text/plain": [
       "array([[19.25      , 15.        , 24.25      ],\n",
       "       [12.66666667, 19.66666667, 18.        ],\n",
       "       [19.4       , 13.6       , 24.8       ],\n",
       "       [17.66666667,  5.33333333, 13.33333333],\n",
       "       [19.25      , 16.25      , 22.5       ],\n",
       "       [14.        , 14.5       , 20.        ],\n",
       "       [ 8.25      ,  9.        , 14.        ],\n",
       "       [ 3.5       , 20.5       , 27.5       ],\n",
       "       [14.75      , 18.5       , 11.75      ],\n",
       "       [13.25      ,  7.        , 20.75      ],\n",
       "       [15.33333333,  9.66666667, 11.83333333],\n",
       "       [19.25      ,  7.75      , 13.25      ],\n",
       "       [12.66666667, 12.33333333, 12.33333333],\n",
       "       [18.66666667,  4.        , 10.66666667],\n",
       "       [14.5       , 16.5       ,  6.        ],\n",
       "       [19.75      , 11.        ,  6.        ],\n",
       "       [15.6       , 14.4       , 13.6       ],\n",
       "       [17.75      , 14.75      ,  5.5       ]])"
      ]
     },
     "execution_count": 81,
     "metadata": {},
     "output_type": "execute_result"
    }
   ],
   "source": [
    "usm(h, offset_idx_r, c*P)"
   ]
  },
  {
   "cell_type": "code",
   "execution_count": 72,
   "metadata": {},
   "outputs": [
    {
     "data": {
      "text/plain": [
       "(4,)"
      ]
     },
     "execution_count": 72,
     "metadata": {},
     "output_type": "execute_result"
    }
   ],
   "source": [
    "offset_idx.shape"
   ]
  },
  {
   "cell_type": "code",
   "execution_count": null,
   "metadata": {},
   "outputs": [],
   "source": []
  }
 ],
 "metadata": {
  "kernelspec": {
   "display_name": "Python 3",
   "language": "python",
   "name": "python3"
  },
  "language_info": {
   "codemirror_mode": {
    "name": "ipython",
    "version": 3
   },
   "file_extension": ".py",
   "mimetype": "text/x-python",
   "name": "python",
   "nbconvert_exporter": "python",
   "pygments_lexer": "ipython3",
   "version": "3.6.5"
  }
 },
 "nbformat": 4,
 "nbformat_minor": 2
}
