{
 "cells": [
  {
   "cell_type": "code",
   "execution_count": 48,
   "metadata": {},
   "outputs": [],
   "source": [
    "import numpy as np\n",
    "from sklearn.neighbors import radius_neighbors_graph, KDTree\n",
    "import chainer\n",
    "import chainer.functions as F\n",
    "import glob\n",
    "import struct\n",
    "import cupy\n",
    "from chainer import cuda"
   ]
  },
  {
   "cell_type": "code",
   "execution_count": 2,
   "metadata": {},
   "outputs": [],
   "source": [
    "DATA_PATH = '/home/evan/Data/nbody_simulations/N_{0}/DM*/{1}_dm.z=0{2}000'\n",
    "#=============================================================================\n",
    "# Data utils\n",
    "#=============================================================================\n",
    "def read_sim(file_list, n_P):\n",
    "    \"\"\" reads simulation data from disk and returns\n",
    "\n",
    "    Args:\n",
    "        file_list: (list<str>) paths to files\n",
    "        n_P: (int) number of particles base (n_P**3 particles)\n",
    "    \"\"\"\n",
    "    num_particles = n_P**3\n",
    "    dataset = []\n",
    "    for file_name in file_list:\n",
    "        this_set = []\n",
    "        with open(file_name, \"rb\") as f:\n",
    "            for i in range(num_particles*6):\n",
    "                s = struct.unpack('=f',f.read(4))\n",
    "                this_set.append(s[0])\n",
    "        dataset.append(this_set)\n",
    "    dataset = np.array(dataset).reshape([len(file_list),num_particles,6])  \n",
    "    return dataset\n",
    "\n",
    "def load_datum(n_P, redshift, normalize_data=False):\n",
    "    \"\"\" loads two redshift datasets from proper data directory\n",
    "\n",
    "    Args:\n",
    "        redshift: (float) redshift\n",
    "        n_P: (int) base of number of particles (n_P**3 particles)\n",
    "    \"\"\"\n",
    "    N_P = 10000 if n_P == 32 else 1000\n",
    "    glob_paths = glob.glob(DATA_PATH.format(N_P, 'xv', redshift))\n",
    "    X = read_sim(glob_paths, n_P)\n",
    "    if normalize_data:\n",
    "        X = normalize(X)\n",
    "    return X\n",
    "\n",
    "def normalize(X_in):\n",
    "    \"\"\" Normalize features\n",
    "    coordinates are rescaled to (0,1)\n",
    "    velocities normalized by mean/std    \n",
    "    \"\"\"\n",
    "    x_r = np.reshape(X_in, [-1,6])\n",
    "    coo, vel = np.split(x_r, [3], axis=-1)\n",
    "    coo_min = np.min(coo, axis=0)\n",
    "    coo_max = np.max(coo, axis=0)\n",
    "    #coo_mean, coo_std = np.mean(coo,axis=0), np.std(coo,axis=0)\n",
    "    #x_r[:,:3] = (x_r[:,:3] - coo_mean) / (coo_std)\n",
    "    vel_mean = np.mean(vel, axis=0)\n",
    "    vel_std  = np.std( vel, axis=0)\n",
    "    x_r[:,:3] = (x_r[:,:3] - coo_min) / (coo_max - coo_min)\n",
    "    x_r[:,3:] = (x_r[:,3:] - vel_mean) / vel_std\n",
    "    X_out = np.reshape(x_r,X_in.shape).astype(np.float32) # just convert to float32 here\n",
    "    return X_out"
   ]
  },
  {
   "cell_type": "code",
   "execution_count": 3,
   "metadata": {},
   "outputs": [],
   "source": [
    "'''\n",
    "Data\n",
    "'''\n",
    "num_particles = 16\n",
    "zX = 0.6\n",
    "X = load_datum(num_particles, zX, normalize_data=True)\n",
    "N = X.shape[0]"
   ]
  },
  {
   "cell_type": "code",
   "execution_count": 50,
   "metadata": {},
   "outputs": [],
   "source": [
    "'''\n",
    "Density stuff\n",
    "LOOK AT sklearn.neighbors module,\n",
    " - KDTree\n",
    " - Ball tree\n",
    " - radius neighbors\n",
    "'''\n",
    "rad = 0.01\n",
    "x = X[0,:,:3]"
   ]
  },
  {
   "cell_type": "code",
   "execution_count": 52,
   "metadata": {},
   "outputs": [],
   "source": [
    "graph = radius_neighbors_graph(x[:,:3], rad, include_self=True)\n",
    "kdtree = KDTree(x)\n",
    "coograph = graph.tocoo()\n",
    "graph_indptr = graph.indptr\n",
    "graph_data = graph.data"
   ]
  },
  {
   "cell_type": "code",
   "execution_count": 54,
   "metadata": {},
   "outputs": [
    {
     "ename": "ValueError",
     "evalue": "Expected 2D array, got 1D array instead:\narray=[ 0.99018818  0.01947629  0.06255958].\nReshape your data either using array.reshape(-1, 1) if your data has a single feature or array.reshape(1, -1) if it contains a single sample.",
     "output_type": "error",
     "traceback": [
      "\u001b[0;31m---------------------------------------------------------------------------\u001b[0m",
      "\u001b[0;31mValueError\u001b[0m                                Traceback (most recent call last)",
      "\u001b[0;32m<ipython-input-54-2adca0814344>\u001b[0m in \u001b[0;36m<module>\u001b[0;34m()\u001b[0m\n\u001b[0;32m----> 1\u001b[0;31m \u001b[0mdist\u001b[0m\u001b[0;34m,\u001b[0m \u001b[0mind\u001b[0m \u001b[0;34m=\u001b[0m \u001b[0mkdtree\u001b[0m\u001b[0;34m.\u001b[0m\u001b[0mquery\u001b[0m\u001b[0;34m(\u001b[0m\u001b[0mx\u001b[0m\u001b[0;34m[\u001b[0m\u001b[0;36m0\u001b[0m\u001b[0;34m]\u001b[0m\u001b[0;34m,\u001b[0m \u001b[0mk\u001b[0m\u001b[0;34m=\u001b[0m\u001b[0;36m5\u001b[0m\u001b[0;34m)\u001b[0m\u001b[0;34m\u001b[0m\u001b[0m\n\u001b[0m",
      "\u001b[0;32msklearn/neighbors/binary_tree.pxi\u001b[0m in \u001b[0;36msklearn.neighbors.kd_tree.BinaryTree.query\u001b[0;34m()\u001b[0m\n",
      "\u001b[0;32m~/.pyenv/versions/3.6.3/envs/P363/lib/python3.6/site-packages/sklearn/utils/validation.py\u001b[0m in \u001b[0;36mcheck_array\u001b[0;34m(array, accept_sparse, dtype, order, copy, force_all_finite, ensure_2d, allow_nd, ensure_min_samples, ensure_min_features, warn_on_dtype, estimator)\u001b[0m\n\u001b[1;32m    439\u001b[0m                     \u001b[0;34m\"Reshape your data either using array.reshape(-1, 1) if \"\u001b[0m\u001b[0;34m\u001b[0m\u001b[0m\n\u001b[1;32m    440\u001b[0m                     \u001b[0;34m\"your data has a single feature or array.reshape(1, -1) \"\u001b[0m\u001b[0;34m\u001b[0m\u001b[0m\n\u001b[0;32m--> 441\u001b[0;31m                     \"if it contains a single sample.\".format(array))\n\u001b[0m\u001b[1;32m    442\u001b[0m             \u001b[0marray\u001b[0m \u001b[0;34m=\u001b[0m \u001b[0mnp\u001b[0m\u001b[0;34m.\u001b[0m\u001b[0matleast_2d\u001b[0m\u001b[0;34m(\u001b[0m\u001b[0marray\u001b[0m\u001b[0;34m)\u001b[0m\u001b[0;34m\u001b[0m\u001b[0m\n\u001b[1;32m    443\u001b[0m             \u001b[0;31m# To ensure that array flags are maintained\u001b[0m\u001b[0;34m\u001b[0m\u001b[0;34m\u001b[0m\u001b[0m\n",
      "\u001b[0;31mValueError\u001b[0m: Expected 2D array, got 1D array instead:\narray=[ 0.99018818  0.01947629  0.06255958].\nReshape your data either using array.reshape(-1, 1) if your data has a single feature or array.reshape(1, -1) if it contains a single sample."
     ]
    }
   ],
   "source": [
    "dist, ind = kdtree.query(x[0], k=5)"
   ]
  },
  {
   "cell_type": "code",
   "execution_count": 49,
   "metadata": {},
   "outputs": [],
   "source": []
  },
  {
   "cell_type": "code",
   "execution_count": 29,
   "metadata": {},
   "outputs": [
    {
     "data": {
      "text/plain": [
       "array([ 25,  27,  29,  31,  32,  34,  35,  36,  37,  39,  41,  42,  43,\n",
       "        44,  45,  46,  47,  48,  49,  50,  51,  52,  53,  54,  55,  56,\n",
       "        57,  58,  59,  60,  61,  62,  63,  64,  65,  67,  68,  69,  70,\n",
       "        71,  72,  74,  76,  77,  78,  79,  80,  81,  82,  83,  84,  86,\n",
       "        87,  88,  89,  90,  91,  93,  95,  96,  97,  98,  99, 100, 101,\n",
       "       102, 103, 104, 105, 106, 108, 109, 110, 111, 112, 113, 114, 115,\n",
       "       116, 117], dtype=int32)"
      ]
     },
     "execution_count": 29,
     "metadata": {},
     "output_type": "execute_result"
    }
   ],
   "source": [
    "graph.indptr[20:100]"
   ]
  }
 ],
 "metadata": {
  "kernelspec": {
   "display_name": "Python 3",
   "language": "python",
   "name": "python3"
  },
  "language_info": {
   "codemirror_mode": {
    "name": "ipython",
    "version": 3
   },
   "file_extension": ".py",
   "mimetype": "text/x-python",
   "name": "python",
   "nbconvert_exporter": "python",
   "pygments_lexer": "ipython3",
   "version": "3.6.3"
  }
 },
 "nbformat": 4,
 "nbformat_minor": 2
}
