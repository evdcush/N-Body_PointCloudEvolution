{
 "cells": [
  {
   "cell_type": "code",
   "execution_count": 8,
   "metadata": {},
   "outputs": [],
   "source": [
    "import numpy as np\n",
    "from sklearn.neighbors import radius_neighbors_graph\n",
    "import chainer\n",
    "import chainer.functions as F\n",
    "import glob\n",
    "import struct"
   ]
  },
  {
   "cell_type": "code",
   "execution_count": 9,
   "metadata": {},
   "outputs": [],
   "source": [
    "DATA_PATH = '/home/evan/Data/nbody_simulations/N_{0}/DM*/{1}_dm.z=0{2}000'\n",
    "#=============================================================================\n",
    "# Data utils\n",
    "#=============================================================================\n",
    "def read_sim(file_list, n_P):\n",
    "    \"\"\" reads simulation data from disk and returns\n",
    "\n",
    "    Args:\n",
    "        file_list: (list<str>) paths to files\n",
    "        n_P: (int) number of particles base (n_P**3 particles)\n",
    "    \"\"\"\n",
    "    num_particles = n_P**3\n",
    "    dataset = []\n",
    "    for file_name in file_list:\n",
    "        this_set = []\n",
    "        with open(file_name, \"rb\") as f:\n",
    "            for i in range(num_particles*6):\n",
    "                s = struct.unpack('=f',f.read(4))\n",
    "                this_set.append(s[0])\n",
    "        dataset.append(this_set)\n",
    "    dataset = np.array(dataset).reshape([len(file_list),num_particles,6])  \n",
    "    return dataset\n",
    "\n",
    "def load_datum(n_P, redshift, normalize_data=False):\n",
    "    \"\"\" loads two redshift datasets from proper data directory\n",
    "\n",
    "    Args:\n",
    "        redshift: (float) redshift\n",
    "        n_P: (int) base of number of particles (n_P**3 particles)\n",
    "    \"\"\"\n",
    "    N_P = 10000 if n_P == 32 else 1000\n",
    "    glob_paths = glob.glob(DATA_PATH.format(N_P, 'xv', redshift))\n",
    "    X = read_sim(glob_paths, n_P)\n",
    "    if normalize_data:\n",
    "        X = normalize(X)\n",
    "    return X\n",
    "\n",
    "def normalize(X_in):\n",
    "    \"\"\" Normalize features\n",
    "    coordinates are rescaled to (0,1)\n",
    "    velocities normalized by mean/std    \n",
    "    \"\"\"\n",
    "    x_r = np.reshape(X_in, [-1,6])\n",
    "    coo, vel = np.split(x_r, [3], axis=-1)\n",
    "    coo_min = np.min(coo, axis=0)\n",
    "    coo_max = np.max(coo, axis=0)\n",
    "    #coo_mean, coo_std = np.mean(coo,axis=0), np.std(coo,axis=0)\n",
    "    #x_r[:,:3] = (x_r[:,:3] - coo_mean) / (coo_std)\n",
    "    vel_mean = np.mean(vel, axis=0)\n",
    "    vel_std  = np.std( vel, axis=0)\n",
    "    x_r[:,:3] = (x_r[:,:3] - coo_min) / (coo_max - coo_min)\n",
    "    x_r[:,3:] = (x_r[:,3:] - vel_mean) / vel_std\n",
    "    X_out = np.reshape(x_r,X_in.shape).astype(np.float32) # just convert to float32 here\n",
    "    return X_out"
   ]
  },
  {
   "cell_type": "code",
   "execution_count": 10,
   "metadata": {},
   "outputs": [],
   "source": [
    "num_particles = 16\n",
    "zX = 0.6\n",
    "X = load_datum(num_particles, zX, normalize_data=True)\n"
   ]
  },
  {
   "cell_type": "code",
   "execution_count": 15,
   "metadata": {},
   "outputs": [],
   "source": [
    "mb_size = 10\n",
    "N = X.shape[0]\n",
    "idx = np.random.choice(N, mb_size)\n",
    "x = X[idx]"
   ]
  },
  {
   "cell_type": "code",
   "execution_count": 16,
   "metadata": {},
   "outputs": [],
   "source": [
    "'''\n",
    "Density stuff\n",
    "'''\n",
    "rad = 0.01\n",
    "graph = np.zeros([mb_size, N, N], dtype=np.float32)"
   ]
  },
  {
   "cell_type": "code",
   "execution_count": 17,
   "metadata": {},
   "outputs": [],
   "source": [
    "graph = radius_neighbors_graph(x[0,:,:3], rad, include_self=True)"
   ]
  },
  {
   "cell_type": "code",
   "execution_count": 19,
   "metadata": {},
   "outputs": [
    {
     "data": {
      "text/plain": [
       "scipy.sparse.csr.csr_matrix"
      ]
     },
     "execution_count": 19,
     "metadata": {},
     "output_type": "execute_result"
    }
   ],
   "source": [
    "type(graph)"
   ]
  }
 ],
 "metadata": {
  "kernelspec": {
   "display_name": "Python 3",
   "language": "python",
   "name": "python3"
  },
  "language_info": {
   "codemirror_mode": {
    "name": "ipython",
    "version": 3
   },
   "file_extension": ".py",
   "mimetype": "text/x-python",
   "name": "python",
   "nbconvert_exporter": "python",
   "pygments_lexer": "ipython3",
   "version": "3.6.4"
  }
 },
 "nbformat": 4,
 "nbformat_minor": 2
}
